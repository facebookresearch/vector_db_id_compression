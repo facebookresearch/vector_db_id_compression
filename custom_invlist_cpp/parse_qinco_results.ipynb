{
 "cells": [
  {
   "cell_type": "code",
   "execution_count": 1,
   "id": "82c59f5b-d3a3-49e9-98aa-59337ebf1051",
   "metadata": {},
   "outputs": [],
   "source": [
    "import json\n",
    "import numpy as np"
   ]
  },
  {
   "cell_type": "code",
   "execution_count": 2,
   "id": "dc0f2831-5dee-48ee-a1e0-57537e8bf486",
   "metadata": {},
   "outputs": [
    {
     "name": "stdout",
     "output_type": "stream",
     "text": [
      "compression none         bits-per-id=64.00 (0.0s) search_time=11.8\n",
      "compression packed-bits  bits-per-id=30.00 (16.5s) search_time=11.4\n",
      "compression elias-fano   bits-per-id=21.81 (1123.6s) search_time=11.7\n",
      "compression roc          bits-per-id=21.46 (1202.3s) search_time=14.9\n"
     ]
    }
   ],
   "source": [
    "for name in \"none\", \"packed-bits\", \"elias-fano\", \"roc\": \n",
    "    # REDO with \n",
    "    logfile = f\"/checkpoint/matthijs/id_compression/qinco/logs/ICOMP.8x8_L2.{name}.d.stdout\"\n",
    "    compressed_ids_size = 0\n",
    "    compression_time = 0\n",
    "    res = None\n",
    "    for l in open(logfile): \n",
    "        if l.startswith(\"JSON results:\"): \n",
    "            res = json.loads(l[l.find(\":\")+ 1:])\n",
    "    \n",
    "    search_times = np.array([\n",
    "        [search_res['t_search'], search_res['t_decode'], search_res['t_dis']]\n",
    "        for search_res in res[\"search_results\"]        \n",
    "    ])\n",
    "    st = search_times.sum(1).mean()\n",
    "    if name == \"none\":         \n",
    "        comp_size = 64\n",
    "        comp_time = 0\n",
    "    else: \n",
    "        comp_size = res['compressed_ids_size_in_bytes']*8/1e9\n",
    "        comp_time = res['id_compression_time']    \n",
    "    print(f\"compression {name:12s} bits-per-id={comp_size:.2f} ({comp_time:.1f}s) search_time={st:.1f}\")"
   ]
  },
  {
   "cell_type": "code",
   "execution_count": 3,
   "id": "12470478-e511-4c0a-bf3a-1c187f4b5d97",
   "metadata": {},
   "outputs": [
    {
     "data": {
      "text/plain": [
       "2.982292637465051"
      ]
     },
     "execution_count": 3,
     "metadata": {},
     "output_type": "execute_result"
    }
   ],
   "source": [
    "64 / 21.46"
   ]
  },
  {
   "cell_type": "code",
   "execution_count": 5,
   "id": "71406a44-cfd5-4a09-828d-1c6992109474",
   "metadata": {},
   "outputs": [
    {
     "data": {
      "text/plain": [
       "0.3127941176470588"
      ]
     },
     "execution_count": 5,
     "metadata": {},
     "output_type": "execute_result"
    }
   ],
   "source": [
    "1 - (9*8 + 21.46) / (9*8 +  64 )"
   ]
  },
  {
   "cell_type": "code",
   "execution_count": 7,
   "id": "7e6ed6be-a204-4978-b056-b474c9a2ea92",
   "metadata": {},
   "outputs": [
    {
     "name": "stdout",
     "output_type": "stream",
     "text": [
      "-rw-rw-r-- 1 matthijs matthijs 17831670210 Jan 22  2024 /checkpoint/matthijs/id_compression/qinco//bigann1B_IVF1M_8x8_L2.faissindex\n"
     ]
    }
   ],
   "source": [
    "!ls -la /checkpoint/matthijs/id_compression/qinco//bigann1B_IVF1M_8x8_L2.faissindex"
   ]
  },
  {
   "cell_type": "code",
   "execution_count": 9,
   "id": "2fec85df-5c0f-482d-93e9-d95b6de824e4",
   "metadata": {},
   "outputs": [
    {
     "data": {
      "text/plain": [
       "831670210.0"
      ]
     },
     "execution_count": 9,
     "metadata": {},
     "output_type": "execute_result"
    }
   ],
   "source": [
    "# index size overhead \n",
    "17831670210 - (9*8 +  64 ) * 1e9 / 8 "
   ]
  },
  {
   "cell_type": "code",
   "execution_count": 10,
   "id": "dbfae331-e9b9-410e-8aa9-39a3a61ad2a0",
   "metadata": {},
   "outputs": [
    {
     "data": {
      "text/plain": [
       "5317500000.0"
      ]
     },
     "execution_count": 10,
     "metadata": {},
     "output_type": "execute_result"
    }
   ],
   "source": [
    "(64 - 21.46) * 1e9 / 8"
   ]
  },
  {
   "cell_type": "code",
   "execution_count": 12,
   "id": "c10c66fd-0ec1-4743-a36e-481592622d44",
   "metadata": {},
   "outputs": [
    {
     "data": {
      "text/plain": [
       "0.29820538050428647"
      ]
     },
     "execution_count": 12,
     "metadata": {},
     "output_type": "execute_result"
    }
   ],
   "source": [
    "# % index size saved \n",
    "5317500000.0 / 17831670210"
   ]
  },
  {
   "cell_type": "code",
   "execution_count": 13,
   "id": "30ae97a7-4666-4405-aa5b-b80f42963fa5",
   "metadata": {},
   "outputs": [
    {
     "data": {
      "text/plain": [
       "5.3175"
      ]
     },
     "execution_count": 13,
     "metadata": {},
     "output_type": "execute_result"
    }
   ],
   "source": [
    "5317500000 / 1e9"
   ]
  },
  {
   "cell_type": "code",
   "execution_count": 15,
   "id": "6bdfc938-5472-47da-a6e3-1e737f20faa5",
   "metadata": {},
   "outputs": [
    {
     "data": {
      "text/plain": [
       "12.51417021"
      ]
     },
     "execution_count": 15,
     "metadata": {},
     "output_type": "execute_result"
    }
   ],
   "source": [
    "17831670210/1e9 - 5317500000 / 1e9"
   ]
  },
  {
   "cell_type": "code",
   "execution_count": null,
   "id": "fea4ef9c-27de-4944-878c-6a3765bd2dba",
   "metadata": {},
   "outputs": [],
   "source": []
  }
 ],
 "metadata": {
  "kernelspec": {
   "display_name": "Python 3 (ipykernel)",
   "language": "python",
   "name": "python3"
  },
  "language_info": {
   "codemirror_mode": {
    "name": "ipython",
    "version": 3
   },
   "file_extension": ".py",
   "mimetype": "text/x-python",
   "name": "python",
   "nbconvert_exporter": "python",
   "pygments_lexer": "ipython3",
   "version": "3.12.3"
  }
 },
 "nbformat": 4,
 "nbformat_minor": 5
}
