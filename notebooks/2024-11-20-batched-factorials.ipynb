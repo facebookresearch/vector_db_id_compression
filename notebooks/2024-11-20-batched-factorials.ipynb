{
 "cells": [
  {
   "cell_type": "code",
   "execution_count": 49,
   "id": "29117db9-c72f-471d-bf12-bef0b90e21bf",
   "metadata": {},
   "outputs": [],
   "source": [
    "import math\n",
    "import scipy.special "
   ]
  },
  {
   "cell_type": "code",
   "execution_count": 50,
   "id": "b071f08b-569f-4b0f-9c9d-024ac4f1d839",
   "metadata": {},
   "outputs": [],
   "source": [
    "N = 900\n",
    "K = 30\n",
    "invlist_length = N / K"
   ]
  },
  {
   "cell_type": "markdown",
   "id": "58c78c76-35ad-47e0-a283-5392220f1884",
   "metadata": {},
   "source": [
    "## Count combinations -- exact "
   ]
  },
  {
   "cell_type": "code",
   "execution_count": 51,
   "id": "e772c480-8f94-496b-89c3-b91fe8f2bec4",
   "metadata": {},
   "outputs": [
    {
     "data": {
      "text/plain": [
       "6.22347894648459"
      ]
     },
     "execution_count": 51,
     "metadata": {},
     "output_type": "execute_result"
    }
   ],
   "source": [
    "# exact ROC \n",
    "\n",
    "bits_per_id = K * (math.log2(N) * invlist_length - math.log2(scipy.special.factorial(invlist_length))) / N\n",
    "bits_per_id"
   ]
  },
  {
   "cell_type": "code",
   "execution_count": 52,
   "id": "d60bf3f9-126d-451d-9a3a-3fd409022329",
   "metadata": {},
   "outputs": [
    {
     "data": {
      "text/plain": [
       "4.787709208088086"
      ]
     },
     "execution_count": 52,
     "metadata": {},
     "output_type": "execute_result"
    }
   ],
   "source": [
    "# exact string \n",
    "\n",
    "s = 0 \n",
    "for k in range(K):\n",
    "    log_pp = math.log2(scipy.special.comb(N - k * invlist_length, invlist_length))\n",
    "    s += log_pp\n",
    "\n",
    "bits_per_id = s / N\n",
    "bits_per_id"
   ]
  },
  {
   "cell_type": "markdown",
   "id": "1455a330-9753-4570-bba8-91ccb4d41a96",
   "metadata": {},
   "source": [
    "## Count combinations -- approximate"
   ]
  },
  {
   "cell_type": "code",
   "execution_count": 56,
   "id": "8c053647-17c3-4392-ad54-4c6ccefb3826",
   "metadata": {},
   "outputs": [],
   "source": [
    "N = 10**6 \n",
    "K = 10**3\n",
    "invlist_length = N // K"
   ]
  },
  {
   "cell_type": "code",
   "execution_count": 57,
   "id": "672f402f-0f3e-4a11-85a1-b66e38f34d43",
   "metadata": {},
   "outputs": [
    {
     "data": {
      "text/plain": [
       "9.965784284662089"
      ]
     },
     "execution_count": 57,
     "metadata": {},
     "output_type": "execute_result"
    }
   ],
   "source": [
    "# with ROC (incorrect, uses n*log(n))\n",
    "bits_per_id = K * (math.log2(N) * invlist_length - invlist_length * math.log2(invlist_length)) / N\n",
    "bits_per_id"
   ]
  },
  {
   "cell_type": "code",
   "execution_count": 58,
   "id": "3d053344",
   "metadata": {},
   "outputs": [
    {
     "data": {
      "text/plain": [
       "11.402170565119398"
      ]
     },
     "execution_count": 58,
     "metadata": {},
     "output_type": "execute_result"
    }
   ],
   "source": [
    "# with ROC (correct, uses log(n!))\n",
    "cached_factorials = np.cumsum(np.log2(np.arange(N + 2) + 1), dtype=np.float64)\n",
    "cached_factorials = np.r_[0.0, cached_factorials[:-1]]\n",
    "\n",
    "bits_per_id = K * (math.log2(N) * invlist_length - cached_factorials[invlist_length]) / N\n",
    "bits_per_id"
   ]
  },
  {
   "cell_type": "code",
   "execution_count": null,
   "id": "93173a64-f9e5-4885-aaf6-c728db588d96",
   "metadata": {},
   "outputs": [
    {
     "data": {
      "text/plain": [
       "9.96578428466196"
      ]
     },
     "execution_count": 7,
     "metadata": {},
     "output_type": "execute_result"
    }
   ],
   "source": [
    "# with strings \n",
    "\n",
    "\n",
    "def log_ncomb(n, m): \n",
    "    # from https://math.stackexchange.com/questions/64716/approximating-the-logarithm-of-the-binomial-coefficient\n",
    "    if m == n: return 0\n",
    "    return n * math.log2(n) - (n - m) * math.log2(n - m) - m * math.log2(m)\n",
    "\n",
    "s = 0 \n",
    "for k in range(K):\n",
    "    log_pp = log_ncomb(N - k * invlist_length, invlist_length)\n",
    "    s += log_pp\n",
    "\n",
    "bits_per_id = s / N\n",
    "bits_per_id"
   ]
  },
  {
   "cell_type": "markdown",
   "id": "e618f40a",
   "metadata": {},
   "source": [
    "## Count with batched factorials"
   ]
  },
  {
   "cell_type": "markdown",
   "id": "b56a2a59",
   "metadata": {},
   "source": [
    "$$\\log\\binom{K \\cdot n}{n} + \\log\\binom{(K-1) \\cdot n}{n} + \\dots + \\log\\binom{2n}{n} + \\log\\binom{n}{n}$$"
   ]
  },
  {
   "cell_type": "code",
   "execution_count": null,
   "id": "68fe1049",
   "metadata": {},
   "outputs": [
    {
     "data": {
      "text/plain": [
       "9.959486815763544"
      ]
     },
     "execution_count": 46,
     "metadata": {},
     "output_type": "execute_result"
    }
   ],
   "source": [
    "import numpy as np\n",
    "import scipy\n",
    "\n",
    "N = 1_000_000\n",
    "K = 1_000\n",
    "n = invlist_length = N // K\n",
    "\n",
    "cached_factorials = np.cumsum(np.log2(np.arange(N + 2) + 1), dtype=np.float64)\n",
    "cached_factorials = np.r_[0.0, cached_factorials[:-1]]\n",
    "f = lambda x: np.log2(scipy.special.factorial(x))\n",
    "\n",
    "bits_per_id = 0\n",
    "for j in range(K):\n",
    "    bits_per_id += cached_factorials[N - j*n] - cached_factorials[N - (j+1)*n]\n",
    "bits_per_id += -K * cached_factorials[n] # -K * log(n!)\n",
    "bits_per_id /= N\n",
    "\n",
    "bits_per_id "
   ]
  },
  {
   "cell_type": "code",
   "execution_count": null,
   "id": "da2dd89e",
   "metadata": {},
   "outputs": [
    {
     "data": {
      "text/plain": [
       "inf"
      ]
     },
     "execution_count": 47,
     "metadata": {},
     "output_type": "execute_result"
    }
   ],
   "source": [
    "scipy.special.comb(2*invlist_length, invlist_length)"
   ]
  }
 ],
 "metadata": {
  "kernelspec": {
   "display_name": "faiss_ivf_compression",
   "language": "python",
   "name": "python3"
  },
  "language_info": {
   "codemirror_mode": {
    "name": "ipython",
    "version": 3
   },
   "file_extension": ".py",
   "mimetype": "text/x-python",
   "name": "python",
   "nbconvert_exporter": "python",
   "pygments_lexer": "ipython3",
   "version": "3.12.4"
  }
 },
 "nbformat": 4,
 "nbformat_minor": 5
}
