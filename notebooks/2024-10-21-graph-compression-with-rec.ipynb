{
 "cells": [
  {
   "cell_type": "code",
   "execution_count": 2,
   "metadata": {},
   "outputs": [],
   "source": [
    "%load_ext autoreload\n",
    "%autoreload 2"
   ]
  },
  {
   "cell_type": "code",
   "execution_count": 3,
   "metadata": {},
   "outputs": [
    {
     "name": "stdout",
     "output_type": "stream",
     "text": [
      "env: DATA_DIR=/checkpoint/dsevero/data\n"
     ]
    }
   ],
   "source": [
    "%set_env DATA_DIR /checkpoint/dsevero/data"
   ]
  },
  {
   "cell_type": "code",
   "execution_count": 4,
   "metadata": {},
   "outputs": [
    {
     "name": "stdout",
     "output_type": "stream",
     "text": [
      "2.7848991385588513\n"
     ]
    },
    {
     "ename": "TypeError",
     "evalue": "only length-1 arrays can be converted to Python scalars",
     "output_type": "error",
     "traceback": [
      "\u001b[0;31m---------------------------------------------------------------------------\u001b[0m",
      "\u001b[0;31mTypeError\u001b[0m                                 Traceback (most recent call last)",
      "Cell \u001b[0;32mIn[4], line 25\u001b[0m\n\u001b[1;32m     22\u001b[0m seq_bpe, graph_bpe \u001b[38;5;241m=\u001b[39m model_pu\u001b[38;5;241m.\u001b[39mcompute_bpe(graph)\n\u001b[1;32m     23\u001b[0m \u001b[38;5;28mprint\u001b[39m(graph_bpe)\n\u001b[0;32m---> 25\u001b[0m seq_bpe, graph_bpe \u001b[38;5;241m=\u001b[39m model_swor\u001b[38;5;241m.\u001b[39mcompute_bpe(graph)\n\u001b[1;32m     26\u001b[0m \u001b[38;5;28mprint\u001b[39m(graph_bpe)\n",
      "File \u001b[0;32m~/repos/NeuralCompressionInternal/projects/intern_faiss_ivf_compression/Random-Edge-Coding/rec/models.py:181\u001b[0m, in \u001b[0;36mSWORModel.<locals>.compute_bpe\u001b[0;34m(graph)\u001b[0m\n\u001b[1;32m    178\u001b[0m num_bits_back \u001b[38;5;241m=\u001b[39m batched_log_factorial(graph\u001b[38;5;241m.\u001b[39mnum_edges) \u001b[38;5;241m+\u001b[39m graph\u001b[38;5;241m.\u001b[39mnum_edges\n\u001b[1;32m    179\u001b[0m graph_info_content \u001b[38;5;241m=\u001b[39m seq_info_content \u001b[38;5;241m-\u001b[39m num_bits_back\n\u001b[1;32m    180\u001b[0m \u001b[38;5;28;01mreturn\u001b[39;00m (\n\u001b[0;32m--> 181\u001b[0m     \u001b[38;5;28mfloat\u001b[39m(seq_info_content \u001b[38;5;241m/\u001b[39m graph\u001b[38;5;241m.\u001b[39mnum_edges),\n\u001b[1;32m    182\u001b[0m     \u001b[38;5;28mfloat\u001b[39m(graph_info_content \u001b[38;5;241m/\u001b[39m graph\u001b[38;5;241m.\u001b[39mnum_edges),\n\u001b[1;32m    183\u001b[0m )\n",
      "\u001b[0;31mTypeError\u001b[0m: only length-1 arrays can be converted to Python scalars"
     ]
    }
   ],
   "source": [
    "import craystack as cs\n",
    "import numpy as np\n",
    "\n",
    "from rec.definitions import Graph\n",
    "from rec.models import PolyasUrnModel, SWORModel\n",
    "\n",
    "def sample_erdos_renyi_graph(num_nodes, p, seed=0):\n",
    "    np.random.seed(seed)\n",
    "    adjacency_matrix = np.triu(np.random.rand(num_nodes, num_nodes) < p, k=1)\n",
    "    edge_array = np.stack(np.nonzero(adjacency_matrix)).T\n",
    "    return Graph(\n",
    "        edge_array=edge_array,\n",
    "        num_nodes=num_nodes,\n",
    "        num_edges=edge_array.shape[0],\n",
    "    )\n",
    "\n",
    "num_nodes = 20\n",
    "p_erdos_renyi = 1/2\n",
    "graph = sample_erdos_renyi_graph(num_nodes, p_erdos_renyi)\n",
    "model_pu = PolyasUrnModel(graph.num_nodes, graph.num_edges, bias=1)\n",
    "model_swor = SWORModel(graph.num_nodes, graph.num_edges, max_degree=graph.num_edges)\n",
    "seq_bpe, graph_bpe = model_pu.compute_bpe(graph)\n",
    "print(graph_bpe)\n",
    "\n",
    "seq_bpe, graph_bpe = model_swor.compute_bpe(graph)\n",
    "print(graph_bpe)"
   ]
  },
  {
   "cell_type": "markdown",
   "metadata": {},
   "source": [
    "# NSG"
   ]
  },
  {
   "cell_type": "code",
   "execution_count": 3,
   "metadata": {},
   "outputs": [
    {
     "name": "stdout",
     "output_type": "stream",
     "text": [
      "IndexNSG::add 1000000 vectors\n",
      "  Build knn graph with NNdescent S=10 R=100 L=114 niter=10\n",
      "Parameters: K=64, S=10, R=100, L=114, iter=10\n",
      "Iter: 0, recall@64: 0.000000\n",
      "Iter: 1, recall@64: 0.002813\n",
      "Iter: 2, recall@64: 0.024375\n",
      "Iter: 3, recall@64: 0.119062\n",
      "Iter: 4, recall@64: 0.341250\n",
      "Iter: 5, recall@64: 0.579063\n",
      "Iter: 6, recall@64: 0.755000\n",
      "Iter: 7, recall@64: 0.857813\n",
      "Iter: 8, recall@64: 0.923594\n",
      "Iter: 9, recall@64: 0.959219\n",
      "Added 1000000 points into the index\n",
      "  Check the knn graph\n",
      "  nsg building\n",
      "NSG::build R=64, L=96, C=164\n",
      "Degree Statistics: Max = 64, Min = 1, Avg = 22.467500\n",
      "Attached nodes: 0\n"
     ]
    }
   ],
   "source": [
    "import numpy as np\n",
    "import faiss\n",
    "\n",
    "from faiss.contrib.datasets import SyntheticDataset, DatasetSIFT1M, DatasetDeep1B\n",
    "from faiss.contrib.inspect_tools import get_NSG_neighbors\n",
    "\n",
    "ds = DatasetSIFT1M()\n",
    "# ds = SyntheticDataset(d=100, nt=0, nb=10_000, nq=1)\n",
    "index_nsg = faiss.index_factory(ds.d, \"NSG64,Flat\")\n",
    "index_nsg.verbose = True\n",
    "database = ds.get_database()\n",
    "index_nsg.add(database)"
   ]
  },
  {
   "cell_type": "code",
   "execution_count": 4,
   "metadata": {},
   "outputs": [
    {
     "data": {
      "text/plain": [
       "array([[     2,      6,  10336, ...,     -1,     -1,     -1],\n",
       "       [     3,     14,      7, ...,     -1,     -1,     -1],\n",
       "       [     0,  83606, 280107, ...,     -1,     -1,     -1],\n",
       "       ...,\n",
       "       [575835, 567070, 218562, ...,     -1,     -1,     -1],\n",
       "       [184314, 519558, 378126, ...,     -1,     -1,     -1],\n",
       "       [998947, 211422, 189151, ...,     -1,     -1,     -1]], dtype=int32)"
      ]
     },
     "execution_count": 4,
     "metadata": {},
     "output_type": "execute_result"
    }
   ],
   "source": [
    "graph_friends = get_NSG_neighbors(index_nsg.nsg)\n",
    "graph_friends "
   ]
  },
  {
   "cell_type": "code",
   "execution_count": null,
   "metadata": {},
   "outputs": [],
   "source": []
  },
  {
   "cell_type": "code",
   "execution_count": 5,
   "metadata": {},
   "outputs": [
    {
     "data": {
      "text/plain": [
       "array([32, 19, 27, ..., 29, 25, 10])"
      ]
     },
     "execution_count": 5,
     "metadata": {},
     "output_type": "execute_result"
    }
   ],
   "source": [
    "(graph_friends != -1).sum(axis=1)"
   ]
  },
  {
   "cell_type": "code",
   "execution_count": 6,
   "metadata": {},
   "outputs": [
    {
     "data": {
      "text/plain": [
       "<Axes: ylabel='Frequency'>"
      ]
     },
     "execution_count": 6,
     "metadata": {},
     "output_type": "execute_result"
    },
    {
     "data": {
      "image/png": "[encoded data removed]",
      "text/plain": [
       "<Figure size 640x480 with 1 Axes>"
      ]
     },
     "metadata": {},
     "output_type": "display_data"
    }
   ],
   "source": [
    "import pandas as pd\n",
    "\n",
    "pd.DataFrame((graph_friends != -1).sum(axis=1)).plot.hist(bins=64, density=True)"
   ]
  },
  {
   "cell_type": "code",
   "execution_count": 12,
   "metadata": {},
   "outputs": [
    {
     "data": {
      "text/plain": [
       "<Axes: ylabel='Frequency'>"
      ]
     },
     "execution_count": 12,
     "metadata": {},
     "output_type": "execute_result"
    },
    {
     "data": {
      "image/png": "[encoded data removed]",
      "text/plain": [
       "<Figure size 640x480 with 1 Axes>"
      ]
     },
     "metadata": {},
     "output_type": "display_data"
    }
   ],
   "source": [
    "x = graph_friends.flatten()\n",
    "pd.DataFrame(x[x != -1]).value_counts().plot.hist(bins=64, density=False)"
   ]
  },
  {
   "cell_type": "code",
   "execution_count": 7,
   "metadata": {},
   "outputs": [],
   "source": [
    "from rec.datasets import load_dataset\n",
    "graph_fq = load_dataset('foursquare', -1)"
   ]
  },
  {
   "cell_type": "code",
   "execution_count": 8,
   "metadata": {},
   "outputs": [
    {
     "data": {
      "text/plain": [
       "<Axes: ylabel='Frequency'>"
      ]
     },
     "execution_count": 8,
     "metadata": {},
     "output_type": "execute_result"
    },
    {
     "data": {
      "image/png": "[encoded data removed]",
      "text/plain": [
       "<Figure size 640x480 with 1 Axes>"
      ]
     },
     "metadata": {},
     "output_type": "display_data"
    }
   ],
   "source": [
    "import pandas as pd\n",
    "import numpy as np\n",
    "\n",
    "_, num_edges_per_node = np.unique(graph_fq.edge_array.flatten(), return_counts=True)\n",
    "num_edges_per_node\n",
    "pd.DataFrame(num_edges_per_node[num_edges_per_node > 0]).plot.hist(density=True, logy=True)"
   ]
  },
  {
   "cell_type": "code",
   "execution_count": 9,
   "metadata": {},
   "outputs": [
    {
     "data": {
      "text/plain": [
       "(22467500, 2)"
      ]
     },
     "execution_count": 9,
     "metadata": {},
     "output_type": "execute_result"
    }
   ],
   "source": [
    "def friend_to_edgelist_repr(graph_friends):\n",
    "    return np.array([\n",
    "        [v, w] for v, friends in enumerate(graph_friends) for w in friends if w != -1\n",
    "    ])\n",
    "\n",
    "graph_edgelist = friend_to_edgelist_repr(graph_friends)\n",
    "graph_edgelist.shape"
   ]
  },
  {
   "cell_type": "code",
   "execution_count": 10,
   "metadata": {},
   "outputs": [
    {
     "ename": "KeyboardInterrupt",
     "evalue": "",
     "output_type": "error",
     "traceback": [
      "\u001b[0;31m---------------------------------------------------------------------------\u001b[0m",
      "\u001b[0;31mKeyboardInterrupt\u001b[0m                         Traceback (most recent call last)",
      "Cell \u001b[0;32mIn[10], line 7\u001b[0m\n\u001b[1;32m      1\u001b[0m graph \u001b[38;5;241m=\u001b[39m Graph(\n\u001b[1;32m      2\u001b[0m     edge_array\u001b[38;5;241m=\u001b[39mgraph_edgelist,\n\u001b[1;32m      3\u001b[0m     num_nodes\u001b[38;5;241m=\u001b[39mgraph_friends\u001b[38;5;241m.\u001b[39mshape[\u001b[38;5;241m0\u001b[39m],\n\u001b[1;32m      4\u001b[0m     num_edges\u001b[38;5;241m=\u001b[39m\u001b[38;5;28mlen\u001b[39m(graph_edgelist),\n\u001b[1;32m      5\u001b[0m )\n\u001b[1;32m      6\u001b[0m model \u001b[38;5;241m=\u001b[39m PolyasUrnModel(graph\u001b[38;5;241m.\u001b[39mnum_nodes, graph\u001b[38;5;241m.\u001b[39mnum_edges, bias\u001b[38;5;241m=\u001b[39m\u001b[38;5;241m100\u001b[39m)\n\u001b[0;32m----> 7\u001b[0m seq_bpe, graph_bpe \u001b[38;5;241m=\u001b[39m model\u001b[38;5;241m.\u001b[39mcompute_bpe(graph)\n\u001b[1;32m      8\u001b[0m graph_bpe, seq_bpe\n",
      "File \u001b[0;32m~/repos/NeuralCompressionInternal/projects/intern_faiss_ivf_compression/Random-Edge-Coding/rec/models.py:135\u001b[0m, in \u001b[0;36mPolyasUrnModel.<locals>.compute_bpe\u001b[0;34m(graph)\u001b[0m\n\u001b[1;32m    130\u001b[0m _, counts \u001b[38;5;241m=\u001b[39m np\u001b[38;5;241m.\u001b[39munique(vertex_array, return_counts\u001b[38;5;241m=\u001b[39m\u001b[38;5;28;01mTrue\u001b[39;00m)\n\u001b[1;32m    131\u001b[0m seq_info_content \u001b[38;5;241m=\u001b[39m (\n\u001b[1;32m    132\u001b[0m     batched_log_ascending_factorial(graph\u001b[38;5;241m.\u001b[39mnum_nodes \u001b[38;5;241m*\u001b[39m bias, \u001b[38;5;28mlen\u001b[39m(vertex_array))\n\u001b[1;32m    133\u001b[0m     \u001b[38;5;241m-\u001b[39m batched_log_ascending_factorial(bias, counts)\u001b[38;5;241m.\u001b[39msum()\n\u001b[1;32m    134\u001b[0m )\n\u001b[0;32m--> 135\u001b[0m num_bits_back \u001b[38;5;241m=\u001b[39m batched_log_factorial(graph\u001b[38;5;241m.\u001b[39mnum_edges) \u001b[38;5;241m+\u001b[39m graph\u001b[38;5;241m.\u001b[39mnum_edges\n\u001b[1;32m    136\u001b[0m graph_info_content \u001b[38;5;241m=\u001b[39m seq_info_content \u001b[38;5;241m-\u001b[39m num_bits_back\n\u001b[1;32m    137\u001b[0m \u001b[38;5;28;01mreturn\u001b[39;00m (\n\u001b[1;32m    138\u001b[0m     \u001b[38;5;28mfloat\u001b[39m(seq_info_content \u001b[38;5;241m/\u001b[39m graph\u001b[38;5;241m.\u001b[39mnum_edges),\n\u001b[1;32m    139\u001b[0m     \u001b[38;5;28mfloat\u001b[39m(graph_info_content \u001b[38;5;241m/\u001b[39m graph\u001b[38;5;241m.\u001b[39mnum_edges),\n\u001b[1;32m    140\u001b[0m )\n",
      "File \u001b[0;32m~/repos/NeuralCompressionInternal/projects/intern_faiss_ivf_compression/Random-Edge-Coding/rec/utils.py:42\u001b[0m, in \u001b[0;36mbatched_log_factorial\u001b[0;34m(k)\u001b[0m\n\u001b[1;32m     41\u001b[0m \u001b[38;5;28;01mdef\u001b[39;00m \u001b[38;5;21mbatched_log_factorial\u001b[39m(k):\n\u001b[0;32m---> 42\u001b[0m     \u001b[38;5;28;01mreturn\u001b[39;00m batched_log_ascending_factorial(\u001b[38;5;241m1\u001b[39m, k)\n",
      "File \u001b[0;32m~/repos/NeuralCompressionInternal/projects/intern_faiss_ivf_compression/Random-Edge-Coding/rec/utils.py:37\u001b[0m, in \u001b[0;36mbatched_log_ascending_factorial\u001b[0;34m(a, k)\u001b[0m\n\u001b[1;32m     36\u001b[0m \u001b[38;5;28;01mdef\u001b[39;00m \u001b[38;5;21mbatched_log_ascending_factorial\u001b[39m(a, k):\n\u001b[0;32m---> 37\u001b[0m     cummulative_log_factorial \u001b[38;5;241m=\u001b[39m np\u001b[38;5;241m.\u001b[39mcumsum(np\u001b[38;5;241m.\u001b[39mlog2(a \u001b[38;5;241m+\u001b[39m np\u001b[38;5;241m.\u001b[39marange(np\u001b[38;5;241m.\u001b[39mmax(k))))\n\u001b[1;32m     38\u001b[0m     \u001b[38;5;28;01mreturn\u001b[39;00m cummulative_log_factorial[k \u001b[38;5;241m-\u001b[39m \u001b[38;5;241m1\u001b[39m]\n",
      "\u001b[0;31mKeyboardInterrupt\u001b[0m: "
     ]
    }
   ],
   "source": [
    "graph = Graph(\n",
    "    edge_array=graph_edgelist,\n",
    "    num_nodes=graph_friends.shape[0],\n",
    "    num_edges=len(graph_edgelist),\n",
    ")\n",
    "model = PolyasUrnModel(graph.num_nodes, graph.num_edges, bias=100)\n",
    "seq_bpe, graph_bpe = model.compute_bpe(graph)\n",
    "graph_bpe, seq_bpe"
   ]
  },
  {
   "cell_type": "markdown",
   "metadata": {},
   "source": [
    "# HNSW"
   ]
  },
  {
   "cell_type": "code",
   "execution_count": 12,
   "metadata": {},
   "outputs": [
    {
     "data": {
      "text/plain": [
       "[array([851,  35, 347, 781, 726, 322, 889, 754, 134, 279, 366, 578, 510,\n",
       "        242,  33, 712, 251, 793, 537, 572, 477, 617, 914, 101, 363, 536,\n",
       "        740, 519, 842, 529, 804, 118, 814, 649,  94, 119, 755,  79, 835,\n",
       "         57,  12, 349, 129,  41, 722, 890,  -1,  -1,  -1,  -1,  -1,  -1,\n",
       "         -1,  -1,  -1,  -1,  -1,  -1,  -1,  -1,  -1,  -1,  -1,  -1],\n",
       "       dtype=int32),\n",
       " array([473, 763, 344, 511,  52, 569, 877, 994, 998, 935, 133, 982, 702,\n",
       "        632,  73, 136, 239, 847, 364, 770, 737, 385, 331, 944, 765,  -1,\n",
       "         -1,  -1,  -1,  -1,  -1,  -1], dtype=int32),\n",
       " array([-1, -1, -1, -1, -1, -1, -1, -1, -1, -1, -1, -1, -1, -1, -1, -1, -1,\n",
       "        -1, -1, -1, -1, -1, -1, -1, -1, -1, -1, -1, -1, -1, -1, -1],\n",
       "       dtype=int32)]"
      ]
     },
     "execution_count": 12,
     "metadata": {},
     "output_type": "execute_result"
    }
   ],
   "source": [
    "import numpy as np\n",
    "import faiss\n",
    "\n",
    "from faiss.contrib import datasets\n",
    "\n",
    "# make a 1000-vector dataset in 32D\n",
    "ds = datasets.SyntheticDataset(32, 0, 1000, 0)\n",
    "index = faiss.index_factory(ds.d, \"HNSW32\")\n",
    "index.add(ds.get_database())\n",
    "hnsw = index.hnsw\n",
    "levels = faiss.vector_to_array(hnsw.levels)\n",
    "\n",
    "def vector_to_array(v): \n",
    "    \"\"\" make a vector visible as a numpy array (without copying data)\"\"\"\n",
    "    return faiss.rev_swig_ptr(v.data(), v.size())\n",
    "\n",
    "def get_hnsw_links(hnsw, vno): \n",
    "    \"\"\" get link strcutre for vertex vno \"\"\"\n",
    "    \n",
    "    # make arrays visible from Python\n",
    "    levels = vector_to_array(hnsw.levels)\n",
    "    cum_nneighbor_per_level = vector_to_array(hnsw.cum_nneighbor_per_level)\n",
    "    offsets = vector_to_array(hnsw.offsets)\n",
    "    neighbors = vector_to_array(hnsw.neighbors)\n",
    "    \n",
    "    # all neighbors of vno\n",
    "    neigh_vno = neighbors[offsets[vno] : offsets[vno + 1]]\n",
    "    \n",
    "    # break down per level \n",
    "    nlevel = levels[vno]\n",
    "    return [\n",
    "        neigh_vno[cum_nneighbor_per_level[l] : cum_nneighbor_per_level[l + 1]]\n",
    "        for l in range(nlevel)\n",
    "    ]                \n",
    "\n",
    "get_hnsw_links(hnsw, 592)"
   ]
  }
 ],
 "metadata": {
  "kernelspec": {
   "display_name": "faiss_ivf_compression",
   "language": "python",
   "name": "python3"
  },
  "language_info": {
   "codemirror_mode": {
    "name": "ipython",
    "version": 3
   },
   "file_extension": ".py",
   "mimetype": "text/x-python",
   "name": "python",
   "nbconvert_exporter": "python",
   "pygments_lexer": "ipython3",
   "version": "3.12.4"
  }
 },
 "nbformat": 4,
 "nbformat_minor": 2
}
