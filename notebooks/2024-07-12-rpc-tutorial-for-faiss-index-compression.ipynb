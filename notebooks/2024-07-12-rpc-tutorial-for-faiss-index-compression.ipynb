{
 "cells": [
  {
   "cell_type": "markdown",
   "id": "3455fe99",
   "metadata": {},
   "source": [
    "# Setup"
   ]
  },
  {
   "cell_type": "code",
   "execution_count": 1,
   "id": "946de583",
   "metadata": {},
   "outputs": [],
   "source": [
    "%load_ext autoreload\n",
    "%autoreload 2"
   ]
  },
  {
   "cell_type": "code",
   "execution_count": null,
   "id": "c741c85f",
   "metadata": {},
   "outputs": [],
   "source": [
    "%%bash\n",
    "pip install faiss-cpu\n",
    "pip install -U git+https://github.com/dsevero/craystack@dsevero/uniform-rans-and-scalar-types\n",
    "pip install sortedcontainers tqdm"
   ]
  },
  {
   "cell_type": "markdown",
   "id": "ad42ec6a",
   "metadata": {},
   "source": [
    "# Problem Setup"
   ]
  },
  {
   "attachments": {
    "image.png": {
     "image/png": "[encoded data removed]"
    }
   },
   "cell_type": "markdown",
   "id": "0dc313f4",
   "metadata": {},
   "source": [
    "FAISS is a database designed to store vectors of large dimensionality, usually representing pre-trained embeddings, for similarity search.\n",
    "Given a query vector, FAISS returns a set of the k-nearest neighbors available in the database under some pre-defined distance metric (usually the L2 distance).\n",
    "Returning the exact set requires an exhaustive search over the entire database for each query vector which quickly becomes intractable in practice.\n",
    "FAISS can instead return an approximate solution by performing a two-stage search on a coarse and fine grained set of database vectors.\n",
    "The database undergoes a training phase where vectors are clustered into sets and assigned a representative (i.e., a centroid).\n",
    "FAISS first selects the k'-nearest clusters, `k' < k`, based on the distance of the query to the centroids, and then performs an exhaustive search within them to return the approximate k-nearest neighbors.\n",
    "\n",
    "The mapping between cluster and the embeddings contained in it is done through an inverted file (IVF), a map from `cluster_id: int` to an array of `embedding_ids: NDArray[uint]`.\n",
    "Search is performed exhaustively inside the clusters, all embeddings with id in `embedding_ids: NDArray[uint]` will have their distance with respect to the query computed, which is then used to rank the embeddings to return the k-nearest neighbours.\n",
    "This means the resulting list of k-nearest neighbour ids is invariant to permutations of the `embedding_ids: NDArray[uint]` array.\n",
    "From an information theoretic point of view, this array is actually a set of elements.\n",
    "\n",
    "The objective of this work is to reduce the memory footprint of `embedding_ids: NDArray[uint]` by applying Random Order Coding (ROC) [1].\n",
    "\n",
    "ROC can be viewed as a lossless encoding method with the following signature\n",
    "\n",
    "```python\n",
    "def ROC_encode(arr: NDArray[uint]) -> tuple[NDArray[uint], int]:\n",
    "    ...\n",
    "```\n",
    "where if `arr_comp, size = ROC_encode(arr)`, the output array `arr_comp` has memory footprint such that `arr_comp.nbytes == arr.nbytes - math.log2(math.factorial(len(arr)))/8` bytes (roughly).\n",
    "The second term `math.log2(...)` is the savings incurred by ROC.\n",
    "Note: I'm abusing notation here by using `==`, since that expression will likely evaluate to `False` as there are small overheads in the algorithm, but it is very very close in practice; usually up to the 3rd decimal place in terms of % for a few hundred elements.\n",
    "\n",
    "The variable `size = len(arr)` is required to specify the inverse (decode),\n",
    "\n",
    "```python\n",
    "def ROC_decode(arr_comp: NDArray[uint], size: int) -> NDArray[uint]:\n",
    "    ...\n",
    "```\n",
    "\n",
    "`ROC_encode` and `ROC_decode` form an inverse pair, in the sense that the following test always passes,\n",
    "\n",
    "```python\n",
    "assert numpy.all(arr == ROC_decode(*ROC_encode(arr)))\n",
    "```\n",
    "\n",
    "The savings in memory footprint can be easily calculated as it depends only on the size `len(arr)`.\n",
    "Here's a plot of the savings, per element, as a function of `n = len(arr)`, in bytes.\n",
    "\n",
    "![image.png](attachment:image.png)\n",
    "\n",
    "The percentage savings will depend on the size of each index (a typical index that is considered large will be 64 bits = 8 bytes).\n",
    "The table below shows the percentage savings assuming 32 and 64 bit ids.\n",
    "\n",
    "| `n` | 32 bit | 64 bit |\n",
    "|-----|--------|--------|\n",
    "| 1e3 | 27%    | 13%    |\n",
    "| 1e4 | 37%    | 18%    |\n",
    "| 1e5 | 47%    | 24%    |\n",
    "| 1e6 | 57%    | 29%    |\n",
    "| 1e7 | 68%    | 34%    |\n",
    "\n",
    "In general, since `log(n!)/n = O(log n)`, we can expect that an order of magnitude increase in the cluster size `n` will result in a linear increase in the savings percentage (which can be seen in the table).\n",
    "\n",
    "To achieve this, I wrote a small library called `rpc` (which stands for _Random Permutation Codes_, a generalized version of ROC which I developed in my thesis).\n",
    "`rpc` uses the asymmetric numeral systems (ANS) implementation available in the [craystack library](https://github.com/j-towns/craystack).\n",
    "\n",
    "In what follows I'll show how to use `rpc` together with `faiss`, and then I'll explain how it works under the hood.\n",
    "\n",
    "[1] [Severo, Daniel, James Townsend, Ashish Khisti, Alireza Makhzani, and Karen Ullrich. \"Compressing multisets with large alphabets.\" IEEE Journal on Selected Areas in Information Theory 3, no. 4 (2022): 605-615.](https://arxiv.org/abs/2107.09202)"
   ]
  },
  {
   "cell_type": "markdown",
   "id": "f55f6022",
   "metadata": {},
   "source": [
    "# How to use `rpc`"
   ]
  },
  {
   "cell_type": "markdown",
   "id": "8971df97",
   "metadata": {},
   "source": [
    "Here I'll show a small example of how to use the `rpc` library to compress a single `embedding_ids: NDArray[uint]`."
   ]
  },
  {
   "cell_type": "markdown",
   "id": "132033c4",
   "metadata": {},
   "source": [
    "## Prepare the FAISS database (1M database vectors, 1k clusters)"
   ]
  },
  {
   "cell_type": "code",
   "execution_count": 3,
   "id": "75b6aa53",
   "metadata": {},
   "outputs": [],
   "source": [
    "import faiss\n",
    "from faiss.contrib.datasets import SyntheticDataset\n",
    "from faiss.contrib.inspect_tools import get_invlist\n",
    "\n",
    "# Make a synthetic dataset with 1M database vectors (`nb`) and 1M training examples (`nt`).\n",
    "# The number of queries `nq` and dimension `d` don't affect the compression rate of the indices.\n",
    "ds = SyntheticDataset(d=2, nt=int(1e6), nb=int(1e6), nq=1)\n",
    "\n",
    "# Create, train, and populate the C++ index: `\\sqrt(10B) = 100k` clusters, compress vectors to 8-bit integers with scalar quantization.\n",
    "index = faiss.index_factory(ds.d, \"IVF1000,SQ8\")\n",
    "index.train(ds.get_train())\n",
    "index.add(ds.get_database())"
   ]
  },
  {
   "cell_type": "markdown",
   "id": "18dcd0d4",
   "metadata": {},
   "source": [
    "# Compress a single cluster"
   ]
  },
  {
   "cell_type": "code",
   "execution_count": 4,
   "id": "7eabfd69",
   "metadata": {},
   "outputs": [
    {
     "name": "stderr",
     "output_type": "stream",
     "text": [
      "/private/home/dsevero/repos/NeuralCompressionInternal/projects/intern_faiss_ivf_compression/craystack/rans.py:39: UserWarning: Popping from empty message. Generating random data.\n",
      "  warn(\"Popping from empty message. Generating random data.\")\n"
     ]
    },
    {
     "data": {
      "text/plain": [
       "0.1338546458141674"
      ]
     },
     "execution_count": 4,
     "metadata": {},
     "output_type": "execute_result"
    }
   ],
   "source": [
    "from rpc.codecs import ClusterCodec, UniformScalarCodec\n",
    "from rpc.rans import initialize_ans_state, compute_ans_state_size_in_bytes\n",
    "\n",
    "# Get the embeddings located at cluster 23.\n",
    "cluster_id = 23\n",
    "embedding_ids, _ = get_invlist(index.invlists, cluster_id)\n",
    "\n",
    "# Initialize an ANS state and ClusterCodec.\n",
    "# Finally, encode the embedding ids as a set. \n",
    "# A UserWarning will be raised regarding \"Popping from empty message\". This is expected. \n",
    "# First, the ClusterCodec needs to sample (using an ANS decode) a uniform integer \n",
    "# in the range [0, cluster_size) to initiate the algorithm. However, the ANS stack is empty at the start\n",
    "# and therefore random data must be generated and encoded into the state to enable sampling (this is taken care of by rpc.rans).\n",
    "ans_state = initialize_ans_state()\n",
    "codec = ClusterCodec(cluster_size=len(embedding_ids))\n",
    "ans_state = codec.encode(embedding_ids, ans_state)\n",
    "\n",
    "# We should also encode the cluster size to make it a fair comparison, given that it is needed during decoding.\n",
    "ans_state = UniformScalarCodec(prec=index.ntotal).encode(len(embedding_ids), ans_state)\n",
    "\n",
    "# We can compute the savings (should be just above 13% for this example).\n",
    "# The savings increase as the size of the cluster increases, and will be roughly `\\log_2(cluster_size!)`.\n",
    "# This matches the first row in the savings table we discussed before.\n",
    "1 - compute_ans_state_size_in_bytes(ans_state)/embedding_ids.nbytes"
   ]
  },
  {
   "cell_type": "markdown",
   "id": "48c14926",
   "metadata": {},
   "source": [
    "For the sake of closure, we can define the ROC function mentioned before as follows."
   ]
  },
  {
   "cell_type": "code",
   "execution_count": 5,
   "id": "36efc970",
   "metadata": {},
   "outputs": [
    {
     "data": {
      "text/plain": [
       "(array([0, 1, 2, 3, 4, 5, 6, 7, 8, 9], dtype=uint32),\n",
       " array([       591, 3364356096,          0,          6,          0,\n",
       "        2147483653,          0,          4,          0,          2,\n",
       "                 0, 3435921417,     458752, 2863311530,      65536,\n",
       "                 0,          0,  536870912,     196608, 1431655765,\n",
       "            524288, 2735729615], dtype=uint32),\n",
       " 10)"
      ]
     },
     "execution_count": 5,
     "metadata": {},
     "output_type": "execute_result"
    }
   ],
   "source": [
    "from rpc.codecs import ClusterCodec, BigUniformScalarCodec\n",
    "from rpc.rans import initialize_ans_state\n",
    "from rpc.types import uint\n",
    "from craystack.rans import flatten, unflatten\n",
    "from numpy.typing import NDArray\n",
    "import numpy as np\n",
    "\n",
    "def ROC_encode(arr: NDArray[uint]) -> tuple[NDArray[uint], int]:\n",
    "    codec = ClusterCodec(cluster_size=len(arr))\n",
    "    ans_state = codec.encode(arr, initialize_ans_state(shape=1))\n",
    "    return flatten(ans_state), len(arr)\n",
    "\n",
    "def ROC_decode(arr_comp: NDArray[uint], size: int) -> NDArray[uint]:\n",
    "    codec = ClusterCodec(cluster_size=size)\n",
    "    ans_state, arr = codec.decode(unflatten(arr_comp, shape=1))\n",
    "    return arr\n",
    "\n",
    "arr = np.arange(10, dtype=np.uint32)\n",
    "arr_comp, size = ROC_encode(arr)\n",
    "assert np.all(ROC_decode(arr_comp, size) == arr)\n",
    "arr, arr_comp, size"
   ]
  },
  {
   "cell_type": "markdown",
   "id": "7a114c93",
   "metadata": {},
   "source": [
    "# Under the hood."
   ]
  },
  {
   "cell_type": "markdown",
   "id": "6ba9c682",
   "metadata": {},
   "source": [
    "So what exactly is `ClusterCodec` doing?\n",
    "To understand in detail, we first need to look at `containers.SortedList`.\n",
    "\n",
    "A `SortedList` is similar to a regular python `list`, but elements are always guaranteed to be sorted.\n",
    "This is implemented internally in `containers` via the `bisect` standard library.\n",
    "\n",
    "Given a sorted list, there are 2 methods which matter to us: `add(value: Any)`, which adds an element (in-place) such that the resulting list is still sorted;\n",
    "and `pop(index: int = -1)`, which returns and removes the element at position `index` (remember that the list is sorted, so `index` is also the rank of the element in that list).\n",
    "\n",
    "Second, the basic type of `rpc` is `rpc.codecs.Codec`, which is shown below.\n",
    "\n",
    "```python\n",
    "class Codec[SymbolType](ABC):\n",
    "    @abstractmethod\n",
    "    def encode(self, symbols: SymbolType, ans_state: ANSState) -> ANSState:\n",
    "        pass\n",
    "\n",
    "    @abstractmethod\n",
    "    def decode(self, ans_state: ANSState) -> tuple[ANSState, SymbolType]:\n",
    "        pass\n",
    "```\n",
    "\n",
    "This is an abstract class (think of it as a \"template for a class\") that dictates the signature of the `encode` and `decode` methods.\n",
    "The \"`[SymbolType]`\" syntax specifies what types the codec can compress (this is known as a \"generic type\").\n",
    "This will usually be `NDArray[uint]`, `uint`, or `SortedList`.\n",
    "All codecs in `rpc` inherit this class.\n",
    "\n",
    "Finally, there are in general 2 flavours of codecs in `rpc`: vectorized and scalar codecs.\n",
    "A vectorized codec will generally have `SymbolType = NDArray[uint]`, while scalar codecs will have `SymbolType = uint`.\n",
    "By default, codecs are vectorized if there is no mention of \"Scalar\" in their name (e.g., `rpc.codecs.UniformCodec` is vectorized and `rpc.Codecs.UniformScalarCodec` is not).\n",
    "\n",
    "Now back to `ClusterCodec`.\n",
    "It uses another codec in the `rpc` library called `ROCSortedListCodec`.\n",
    "The code is shown below.\n",
    "\n",
    "```python\n",
    "@dataclass\n",
    "class ROCSortedListCodec(Codec[SortedList[T]]):\n",
    "    set_size: int\n",
    "    symbol_codec: Codec[T]\n",
    "    key: Optional[Callable[[T], Any]] = None\n",
    "    copy_input: bool = True\n",
    "\n",
    "    def encode(self, sorted_seq: SortedList[T], ans_state: ANSState) -> ANSState:\n",
    "        # This can be removed when going to production.\n",
    "        if self.copy_input:\n",
    "            sorted_seq = deepcopy(sorted_seq)\n",
    "\n",
    "        for i in range(self.set_size):\n",
    "            # Sample/Decode, without replacement, an index using ANS.\n",
    "            # Initialize a uniform codec for the indices.\n",
    "            prec = np.uint32(self.set_size - i)\n",
    "            ans_state, index = UniformScalarCodec(prec).decode(ans_state)\n",
    "\n",
    "            # `index` is NDArray[uint], need to cast to int to pick the element.\n",
    "            symbol: T = sorted_seq.pop(int(index))\n",
    "\n",
    "            # Encode the element into the ans state.\n",
    "            ans_state = self.symbol_codec.encode(symbol, ans_state)\n",
    "\n",
    "        return ans_state\n",
    "\n",
    "    def decode(self, ans_state: ANSState) -> tuple[ANSState, SortedList[T]]:\n",
    "        # Initialize an empty SortedList of elements of type T.\n",
    "        sorted_seq: SortedList[T] = SortedList([], key=self.key)\n",
    "\n",
    "        for i in range(self.set_size):\n",
    "            # Decode an element from the stack.\n",
    "            ans_state, symbol = self.symbol_codec.decode(ans_state)\n",
    "\n",
    "            # Add it to the sorted list and recover `index`.\n",
    "            sorted_seq.add(symbol)\n",
    "            index = np.uint32(sorted_seq.index(symbol))\n",
    "\n",
    "            # Encode `index` back into the state to reverse sampling.\n",
    "            prec = np.uint32(i + 1)\n",
    "            ans_state = UniformScalarCodec(prec).encode(index, ans_state)\n",
    "\n",
    "        return ans_state, sorted_seq\n",
    "```\n",
    "\n",
    "The key idea is that, since the result of k-nn is invariant to shuffles of the elements in `embedding_ids: NDArray[uint]`, then we can use the ANS state as a random seed to pick the order for us.\n",
    "This will be done by decoding an index from the ANS state, which will reduce the size of the ANS state.\n",
    "It will become clear that, during decoding, we can deduce what the value of the index was selected during encoding, implying we _don't_ have to encode it into the state.\n",
    "\n",
    "The `embedding_ids: NDArray[uint]` is first converted into `sorted_seq: SortedList[uint]` by `ClusterCodec` (not shown), which is then passed to `ROCSortedListCodec.encode` shown above.\n",
    "\n",
    "The first step in encoding is to _sample_ a random `index: uint` in the range `[0, self.set_size)`.\n",
    "This is done with a `UniformScalarCodec`, which is nothing more than a class that encapsulates an ANS decode operation available in the craystack library.\n",
    "The value of `index: uint` will dictate which element in `sorted_seq: SortedList[uint]` will be encoded at that step.\n",
    "This is chosen via the `pop` method, resulting in `symbol: uint` (note: `symbol: uint` is _exactly_ the element `embedding_ids[index]: uint`).\n",
    "\n",
    "After chosing which symbol to encode, `symbol: uint` is encoded into the ans state using the `self.symbol_codec` (which is specified by the user).\n",
    "A common use case is to have 64 bit unsigned integers for the ids, so we can just use `symbol_codec = UniformScalarCodec(prec=1 << 64)`, a uniform codec over `2^64` values.\n",
    "\n",
    "This procedure of sampling an index, popping an element from the sorted list, and encoding the chosen element repeats until `sorted_seq` is empty, implying all elements are encoded.\n",
    "\n",
    "To decode, we initialize an empty `SortedList`, and perform the exact opposite set of operations as in encoding.\n",
    "It is easiest to understand decoding if we always remember that we are undoing the operations done to the ANS state by encoding.\n",
    "Therefore, the first step in decoding is to undo the last encoding step.\n",
    "\n",
    "After encoding, since ANS is a stack-like codec (the last element encoded is the first to be decoded), the top of the ANS stack will contain _the last_ embedding id encoded with `self.symbol_codec`.\n",
    "Therefore, In the for loop, we first decode using `self.symbol_codec` to recover that element.\n",
    "We now input the decoded element into the sorted sequence.\n",
    "**Since the sorted sequence is guaranteed to be sorted, we know that the value of `index` sampled from the ANS state at the corresponding encoding step has to be the index of the element AFTER adding it to the sorted list.**\n",
    "We therefore recover the index with the `SortedList.index` method.\n",
    "Finally, we encode the value of `index` into the ANS state to restore the state to the same value BEFORE the start of the corresponding encoding step.\n",
    "\n",
    "The bit savings come from the decoding of the index.\n",
    "It is easy to show this corresponds to the \"information\" contained in a permutation.\n",
    "If `n` is `self.set_size == len(embedding_ids) == len(sorted_seq)`, then the first encoding step (i.e., `i=0` in the for loop) uses a uniform codec over `n` elements (see the value of `prec` in the `encode` method).\n",
    "For general `i`, the codec is uniform with precision `prec - i`\n",
    "The reduction in the ans state from using a uniform codec is approximately `math.log2(prec - i)` at each step, implying the total savings is roughly `math.log2(math.factorial(prec))` bits."
   ]
  }
 ],
 "metadata": {
  "kernelspec": {
   "display_name": "Python 3 (ipykernel)",
   "language": "python",
   "name": "python3"
  },
  "language_info": {
   "codemirror_mode": {
    "name": "ipython",
    "version": 3
   },
   "file_extension": ".py",
   "mimetype": "text/x-python",
   "name": "python",
   "nbconvert_exporter": "python",
   "pygments_lexer": "ipython3",
   "version": "3.12.4"
  }
 },
 "nbformat": 4,
 "nbformat_minor": 5
}
