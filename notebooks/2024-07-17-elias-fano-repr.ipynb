{
 "cells": [
  {
   "cell_type": "code",
   "execution_count": 13,
   "metadata": {},
   "outputs": [
    {
     "data": {
      "text/plain": [
       "5"
      ]
     },
     "metadata": {},
     "output_type": "display_data"
    },
    {
     "data": {
      "text/plain": [
       "2"
      ]
     },
     "metadata": {},
     "output_type": "display_data"
    },
    {
     "data": {
      "text/plain": [
       "array([2, 3, 1, 3, 3, 1, 0], dtype=uint32)"
      ]
     },
     "metadata": {},
     "output_type": "display_data"
    },
    {
     "data": {
      "text/plain": [
       "2"
      ]
     },
     "metadata": {},
     "output_type": "display_data"
    }
   ],
   "source": [
    "import numpy as np\n",
    "\n",
    "x = np.array([2, 3, 5, 7, 11, 13, 24], dtype=np.uint32)\n",
    "seq_length = x.shape[0]\n",
    "largest_element = x.max()\n",
    "num_total_bits = int(np.ceil(np.log2(largest_element)))\n",
    "num_lower_bits = int(np.ceil(np.log2(largest_element/seq_length)))\n",
    "\n",
    "display(num_total_bits, num_lower_bits)\n",
    "\n",
    "\n",
    "size_lower_bits = 1 + num_lower_bits*seq_length//8\n",
    "lower_bits = x % (1 << num_lower_bits)\n",
    "\n",
    "display(lower_bits, size_lower_bits)"
   ]
  },
  {
   "cell_type": "code",
   "execution_count": 19,
   "metadata": {},
   "outputs": [
    {
     "data": {
      "text/plain": [
       "'111111110'"
      ]
     },
     "execution_count": 19,
     "metadata": {},
     "output_type": "execute_result"
    }
   ],
   "source": [
    "np.binary_repr(np.array(255, dtype=np.uint8) << 1)"
   ]
  },
  {
   "cell_type": "code",
   "execution_count": 55,
   "metadata": {},
   "outputs": [
    {
     "ename": "IndentationError",
     "evalue": "expected an indented block after 'for' statement on line 16 (1830643465.py, line 18)",
     "output_type": "error",
     "traceback": [
      "\u001b[0;36m  Cell \u001b[0;32mIn[55], line 18\u001b[0;36m\u001b[0m\n\u001b[0;31m    return lower_bits\u001b[0m\n\u001b[0m    ^\u001b[0m\n\u001b[0;31mIndentationError\u001b[0m\u001b[0;31m:\u001b[0m expected an indented block after 'for' statement on line 16\n"
     ]
    }
   ],
   "source": [
    "import numpy as np\n",
    "from numpy.typing import NDArray\n",
    "from typing import Literal\n",
    "\n",
    "class NDBitstream:\n",
    "    def __init__(self):\n",
    "        self.repr_size = 8\n",
    "        self.num_bits = 0\n",
    "        self.head_id = 0\n",
    "        self.bit_arr = np.zeros(10, dtype=np.uint8)\n",
    "\n",
    "    def __getitem__(self, i: int) -> Literal[0] | Literal[1]:\n",
    "        return (self.bit_arr[i // 8] >> (7 - (i % 8)) ) % 2\n",
    "\n",
    "    def append(self, x: np.unsignedinteger) -> None:\n",
    "        num_bits_to_add = np.ceil(np.log2(x)).astype(np.uint32) + 1\n",
    "        while num_bits_to_add > 0:\n",
    "            bits_in_head = self.num_bits % self.repr_size\n",
    "            bit_space_in_head = self.repr_size - bits_in_head\n",
    "            lower_bits_of_x_shifted = (x << bits_in_head) & ((1 << self.repr_size) - 1)\n",
    "            self.bit_arr[self.head_id] += lower_bits_of_x_shifted\n",
    "            print(bit_space_in_head, num_bits_to_add, self.num_bits, self.head_id, bits_in_head)\n",
    "            self.num_bits += min(num_bits_to_add, self.repr_size)\n",
    "            num_bits_to_add -= bit_space_in_head \n",
    "            self.head_id = self.num_bits // 8\n",
    "\n",
    "\n",
    "arr = np.array([2, 3, 5, 7, 11, 13, 24], dtype=np.uint8)\n",
    "bitstream = NDBitstream()\n",
    "bitstream.append(12)\n",
    "bitstream.bit_arr"
   ]
  },
  {
   "cell_type": "code",
   "execution_count": 122,
   "metadata": {},
   "outputs": [
    {
     "data": {
      "text/plain": [
       "(array([0, 1, 2, 3, 6], dtype=uint8), array([2, 2, 1, 1, 1]))"
      ]
     },
     "metadata": {},
     "output_type": "display_data"
    },
    {
     "data": {
      "text/plain": [
       "array([183, 208], dtype=uint8)"
      ]
     },
     "metadata": {},
     "output_type": "display_data"
    },
    {
     "data": {
      "text/plain": [
       "6"
      ]
     },
     "metadata": {},
     "output_type": "display_data"
    }
   ],
   "source": [
    "import numpy as np\n",
    "from numpy.typing import NDArray\n",
    "from typing import Literal\n",
    "\n",
    "def elias_fano_encode(arr: NDArray[np.uint32]) -> tuple[NDArray[np.uint8], NDArray[np.uint8]]:\n",
    "    r = repr_size = 8\n",
    "    assert arr.ndim == 1\n",
    "    n = len(arr)\n",
    "    m = arr.max()\n",
    "    b = int(np.ceil(np.log2(m)))\n",
    "    l = int(np.ceil(np.log2(m/n)))\n",
    "\n",
    "    # compute lower bits\n",
    "    mask_lower_bits = ((1 << l) - 1)\n",
    "    lower_bits = arr & mask_lower_bits \n",
    "    total_low_bits = l*n\n",
    "    L = np.zeros(1 +  total_low_bits // r, dtype=np.uint8)\n",
    "    bits_in_head = l*n % r\n",
    "\n",
    "    for i in range(n):\n",
    "        # print(i, l*i // r, l*i % r, lower_bits[i])\n",
    "        L[l*i // r] += lower_bits[i] << r - l - (l*i % r)\n",
    "\n",
    "    # compute upper bits\n",
    "    num_buckets = 1 << (b - l)\n",
    "    upper_bits = arr >> l\n",
    "    bucket_counts = np.zeros(num_buckets)\n",
    "    buckets, _bucket_counts = np.unique(upper_bits, return_counts=True)\n",
    "    bucket_counts[buckets] = _bucket_counts\n",
    "    total_high_bits = num_buckets + n\n",
    "    H = np.zeros(1 + total_high_bits // r)\n",
    "\n",
    "    for i in range(num_buckets):\n",
    "        ones_to_add = bucket_counts[i]\n",
    "    return H, L, bits_in_head\n",
    "\n",
    "def elias_fano_decode(H: NDArray[np.uint8], L: NDArray[np.uint8], n: int, bits_in_head: int) -> NDArray[np.uint32]:\n",
    "    r = repr_size = 8\n",
    "    # assert H.ndim == 1\n",
    "    assert L.ndim == 1\n",
    "\n",
    "    l = (r*(L.shape[0] - 1) + bits_in_head) // n\n",
    "    lower_bits = np.zeros(n, dtype=np.uint32)\n",
    "    for i in range(n):\n",
    "        # print(i, l*i // r, l*i % r, lower_bits[i])\n",
    "        # print(L[l*i // r], r - l - (l*i % r), L[l*i // r] >> r - l - (l*i % r))\n",
    "        lower_bits[i] = (L[l*i // r] >> r - l - (l*i % r)) & ((1 << l) - 1)\n",
    "    return lower_bits\n",
    "\n",
    "\n",
    "\n",
    "arr = np.array([2, 3, 5, 7, 11, 13, 24], dtype=np.uint8)\n",
    "H, L, bits_in_head = elias_fano_encode(arr)\n",
    "display(H, L, bits_in_head)\n",
    "# display(L)\n",
    "# display(np.binary_repr(L[0], width=8))\n",
    "arr_decoded = elias_fano_decode(L=L, H=None, bits_in_head=bits_in_head, n=len(arr))\n",
    "# display(arr_decoded)\n",
    "# display(efr)\n",
    "# for x in efr:\n",
    "#     print(np.binary_repr(x, width=8))"
   ]
  },
  {
   "cell_type": "code",
   "execution_count": 18,
   "metadata": {},
   "outputs": [
    {
     "name": "stdout",
     "output_type": "stream",
     "text": [
      "Upper bound to bytes-per-id: 3.0\n"
     ]
    },
    {
     "data": {
      "text/plain": [
       "2.939"
      ]
     },
     "execution_count": 18,
     "metadata": {},
     "output_type": "execute_result"
    }
   ],
   "source": [
    "import numpy as np\n",
    "from numpy.typing import NDArray\n",
    "\n",
    "def elias_fano_encode(arr: NDArray[np.uint32]) -> tuple[NDArray[np.uint8], NDArray[np.uint8]]:\n",
    "    assert arr.ndim == 1\n",
    "    n = len(arr)\n",
    "    m = arr.max()\n",
    "    b = int(np.ceil(np.log2(m)))\n",
    "    l = int(np.ceil(np.log2(m/n)))\n",
    "\n",
    "    print('Upper bound to bytes-per-id:', (2*n + n*l)/8/n)\n",
    "\n",
    "    arr_unpacked = np.unpackbits(arr[None].T.view(np.uint8), axis=1, bitorder='little')\n",
    "    lower_bits = np.packbits(arr_unpacked[:, :l], bitorder='little')\n",
    "\n",
    "    # compute upper bits\n",
    "    num_buckets = 1 << (b - l)\n",
    "    upper_bits = arr >> l\n",
    "    bucket_counts = np.zeros(num_buckets)\n",
    "    buckets, _bucket_counts = np.unique(upper_bits, return_counts=True)\n",
    "    bucket_counts[buckets] = _bucket_counts\n",
    "\n",
    "    upper_bits = list()\n",
    "    for c in bucket_counts:\n",
    "        upper_bits += int(c)*[1] + [0]\n",
    "    upper_bits = np.packbits(np.array(upper_bits), bitorder='little')\n",
    "    return upper_bits, lower_bits\n",
    "\n",
    "    # compute lower bits\n",
    "    mask_lower_bits = ((1 << l) - 1)\n",
    "    lower_bits = arr & mask_lower_bits \n",
    "    total_low_bits = l*n\n",
    "    L = np.zeros(1 +  total_low_bits // r, dtype=np.uint8)\n",
    "    bits_in_head = l*n % r\n",
    "\n",
    "    for i in range(n):\n",
    "        # print(i, l*i // r, l*i % r, lower_bits[i])\n",
    "        L[l*i // r] += lower_bits[i] << r - l - (l*i % r)\n",
    "\n",
    "    # compute upper bits\n",
    "    num_buckets = 1 << (b - l)\n",
    "    upper_bits = arr >> l\n",
    "    bucket_counts = np.zeros(num_buckets)\n",
    "    buckets, _bucket_counts = np.unique(upper_bits, return_counts=True)\n",
    "    bucket_counts[buckets] = _bucket_counts\n",
    "    total_high_bits = num_buckets + n\n",
    "    H = np.zeros(1 + total_high_bits // r)\n",
    "\n",
    "    for i in range(num_buckets):\n",
    "        ones_to_add = bucket_counts[i]\n",
    "    return H, L, bits_in_head\n",
    "\n",
    "# arr = np.array([2, 3, 5, 7, 11, 13, 24], dtype=np.uint32)\n",
    "arr = np.sort(np.random.randint(0, 2**32 - 1, size=2_000))\n",
    "H, L = elias_fano_encode(arr)\n",
    "(H.nbytes + L.nbytes)/len(arr)"
   ]
  },
  {
   "cell_type": "code",
   "execution_count": 34,
   "metadata": {},
   "outputs": [
    {
     "data": {
      "text/plain": [
       "array([1, 1, 1, 1, 1, 1, 1, 0, 1, 0, 0, 0, 0, 0, 0, 0], dtype=uint8)"
      ]
     },
     "execution_count": 34,
     "metadata": {},
     "output_type": "execute_result"
    }
   ],
   "source": [
    "import numpy as np\n",
    "\n",
    "np.unpackbits(np.array([256 + 255 - 128], dtype=np.uint16).view(np.uint8), bitorder='little')"
   ]
  }
 ],
 "metadata": {
  "kernelspec": {
   "display_name": "faiss_ivf_compression",
   "language": "python",
   "name": "python3"
  },
  "language_info": {
   "codemirror_mode": {
    "name": "ipython",
    "version": 3
   },
   "file_extension": ".py",
   "mimetype": "text/x-python",
   "name": "python",
   "nbconvert_exporter": "python",
   "pygments_lexer": "ipython3",
   "version": "3.12.4"
  }
 },
 "nbformat": 4,
 "nbformat_minor": 2
}
